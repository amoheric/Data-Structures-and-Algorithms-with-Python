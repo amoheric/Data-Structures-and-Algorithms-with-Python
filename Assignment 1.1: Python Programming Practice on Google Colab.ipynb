{
  "nbformat": 4,
  "nbformat_minor": 0,
  "metadata": {
    "colab": {
      "provenance": [],
      "include_colab_link": true
    },
    "kernelspec": {
      "name": "python3",
      "display_name": "Python 3"
    },
    "language_info": {
      "name": "python"
    }
  },
  "cells": [
    {
      "cell_type": "markdown",
      "metadata": {
        "id": "view-in-github",
        "colab_type": "text"
      },
      "source": [
        "<a href=\"https://colab.research.google.com/github/amoheric/Python/blob/main/Assignment%201.1%3A%20Python%20Programming%20Practice%20on%20Google%20Colab.ipynb\" target=\"_parent\"><img src=\"https://colab.research.google.com/assets/colab-badge.svg\" alt=\"Open In Colab\"/></a>"
      ]
    },
    {
      "cell_type": "markdown",
      "source": [
        "**Python Practice**\n",
        "\n",
        "This assignment is to get started with a practice to Python for Data Science.\n",
        "\n",
        "Choose any 6 questions out of the questions below. 6 questions will be graded and the rest can be utilized for some practice."
      ],
      "metadata": {
        "id": "O2PrhW5BvC3E"
      }
    },
    {
      "cell_type": "markdown",
      "source": [
        "Create a string variable greeting containing \"Hello, \" and another variable name containing your name. Concatenate these variables to form a greeting message and print it"
      ],
      "metadata": {
        "id": "ujhMol3ubYaw"
      }
    },
    {
      "cell_type": "code",
      "source": [
        "#Your answer must go here\n",
        "\n",
        "#Variables\n",
        "\n",
        "greetings = \"Hello\"\n",
        "name = \"Amoh Eric\"\n",
        "print(greetings + \" I am \" + name)"
      ],
      "metadata": {
        "id": "Ept6SexKCEwQ",
        "outputId": "93f4155c-f58e-40e2-b0e5-1e9aae668f19",
        "colab": {
          "base_uri": "https://localhost:8080/"
        }
      },
      "execution_count": null,
      "outputs": [
        {
          "output_type": "stream",
          "name": "stdout",
          "text": [
            "Hello I am Amoh Eric\n"
          ]
        }
      ]
    },
    {
      "cell_type": "markdown",
      "source": [
        "Write a Python program which accepts a sequence of comma-separated numbers\n",
        "from the user and generate a list with those numbers. Arrange them in ascending order"
      ],
      "metadata": {
        "id": "q6Q3a2icbfJb"
      }
    },
    {
      "cell_type": "code",
      "source": [
        "#Your answer must go here.\n",
        "\n",
        "#Sorting\n",
        "# Function to accept a sequence of comma-separated numbers and return a sorted list\n",
        "def get_sorted_numbers():\n",
        "    # Accept input from the user\n",
        "    user_input = input(\"Enter a sequence of comma-separated numbers: \")\n",
        "\n",
        "    # Split the input string into individual number strings and convert them to integers\n",
        "    number_list = [int(num.strip()) for num in user_input.split(',')]\n",
        "\n",
        "    # Sort the list in ascending order\n",
        "    sorted_list = sorted(number_list)\n",
        "\n",
        "    return sorted_list\n",
        "\n",
        "# Main function to run the program\n",
        "if __name__ == \"__main__\":\n",
        "    sorted_numbers = get_sorted_numbers()\n",
        "    print(\"Sorted list of numbers:\", sorted_numbers)\n",
        "\n",
        "# Resource: -- Youtube.\n"
      ],
      "metadata": {
        "id": "v2MZd11TCT1Q",
        "outputId": "e2690523-b37b-4eea-9c66-b8efc8bf206c",
        "colab": {
          "base_uri": "https://localhost:8080/"
        }
      },
      "execution_count": null,
      "outputs": [
        {
          "output_type": "stream",
          "name": "stdout",
          "text": [
            "Enter a sequence of comma-separated numbers:  5, 3, 8, 1, 2\n",
            "Sorted list of numbers: [1, 2, 3, 5, 8]\n"
          ]
        }
      ]
    },
    {
      "cell_type": "markdown",
      "source": [
        "Write a Python program to display the first and last letters from the given list of names: [\"Adam\",\"Alex\",\"Emmanuel\" ,\"Robert\", \"Finn\"]."
      ],
      "metadata": {
        "id": "tD9ZO5LqcPHJ"
      }
    },
    {
      "cell_type": "code",
      "source": [
        "#Your answer must go here\n",
        "\n",
        "# List of names\n",
        "names = [\"Adam\", \"Alex\", \"Emmanuel\", \"Robert\", \"Finn\"]\n",
        "\n",
        "# Function to get the first and last letters of each name\n",
        "def first_and_last_letters(name_list):\n",
        "    result = [(name[0], name[-1]) for name in name_list]\n",
        "    return result\n",
        "\n",
        "# Get the first and last letters\n",
        "letters = first_and_last_letters(names)\n",
        "\n",
        "# Display the results\n",
        "for name, (first, last) in zip(names, letters):\n",
        "    print(f\"The first and last letters of {name} are: {first} and {last}\")\n",
        "\n",
        "# Resources: Youtube,   w3school.com, https://www.geeksforgeeks.org/python-get-first-and-last-elements-of-a-list/\n"
      ],
      "metadata": {
        "id": "65y1fHv0CVXu",
        "outputId": "0da1dbdb-cef9-437b-d44a-a41abfdbf031",
        "colab": {
          "base_uri": "https://localhost:8080/"
        }
      },
      "execution_count": null,
      "outputs": [
        {
          "output_type": "stream",
          "name": "stdout",
          "text": [
            "The first and last letters of Adam are: A and m\n",
            "The first and last letters of Alex are: A and x\n",
            "The first and last letters of Emmanuel are: E and l\n",
            "The first and last letters of Robert are: R and t\n",
            "The first and last letters of Finn are: F and n\n"
          ]
        }
      ]
    },
    {
      "cell_type": "markdown",
      "source": [
        "Take a string as an input. Write a python program to create a new string using the first, middle, and last characters of the input string."
      ],
      "metadata": {
        "id": "VyB-z66Vcxjs"
      }
    },
    {
      "cell_type": "code",
      "source": [
        "#Your answer must go here\n",
        "\n",
        "\n",
        "def create_new_string(input_string):\n",
        "    # Get the first character\n",
        "    first_char = input_string[0]\n",
        "\n",
        "    # Get the middle character\n",
        "    middle_index = len(input_string) // 2\n",
        "    middle_char = input_string[middle_index]\n",
        "\n",
        "    # Get the last character\n",
        "    last_char = input_string[-1]\n",
        "\n",
        "    # Create the new string\n",
        "    new_string = first_char + middle_char + last_char\n",
        "\n",
        "    return new_string\n",
        "\n",
        "# Take input from the user\n",
        "user_input = input(\"Enter a string: \")\n",
        "\n",
        "# Generate the new string\n",
        "result = create_new_string(user_input)\n",
        "\n",
        "# Display the result\n",
        "print(\"The new string is:\", result)\n",
        "\n",
        "\n",
        "# Resources: https://www.geeksforgeeks.org/python-create-a-string-made-of-the-first-and-last-two-characters-from-a-given-string/"
      ],
      "metadata": {
        "id": "fywPaeQ9CWoQ",
        "outputId": "c928f671-68ef-41ce-e91d-7011107c937f",
        "colab": {
          "base_uri": "https://localhost:8080/"
        }
      },
      "execution_count": null,
      "outputs": [
        {
          "output_type": "stream",
          "name": "stdout",
          "text": [
            "Enter a string: CupCakes\n",
            "The new string is: Cas\n"
          ]
        }
      ]
    },
    {
      "cell_type": "markdown",
      "source": [
        "Write a python program to take a string as an input and reverse it"
      ],
      "metadata": {
        "id": "4KoZnsVnc7K7"
      }
    },
    {
      "cell_type": "code",
      "source": [
        "#Your answer must go here\n",
        "\n",
        "# Function to reverse a string\n",
        "def reverse_string(input_string):\n",
        "    # Reverse the string using slicing\n",
        "    reversed_string = input_string[::-1]\n",
        "    return reversed_string\n",
        "\n",
        "# Take input from the user\n",
        "user_input = input(\"Enter a string: \")\n",
        "\n",
        "# Reverse the string\n",
        "reversed_result = reverse_string(user_input)\n",
        "\n",
        "# Display the result\n",
        "print(\"The reversed string is:\", reversed_result)\n",
        "\n",
        "\n",
        "# Resources: geeksforgeeks.org - Python reverse string"
      ],
      "metadata": {
        "id": "-C4HsLcjCXwT",
        "outputId": "1bfe961d-4f32-488c-c14a-1580a86b4e05",
        "colab": {
          "base_uri": "https://localhost:8080/"
        }
      },
      "execution_count": null,
      "outputs": [
        {
          "output_type": "stream",
          "name": "stdout",
          "text": [
            "Enter a string: Heartfelt \n",
            "The reversed string is:  tleftraeH\n"
          ]
        }
      ]
    },
    {
      "cell_type": "markdown",
      "source": [
        "**Collections**"
      ],
      "metadata": {
        "id": "x-5HZ4ghtHf-"
      }
    },
    {
      "cell_type": "markdown",
      "source": [
        "Take an input of numbers in a list and create a new list containing only the even numbers from the original list."
      ],
      "metadata": {
        "id": "iGAnSQaMs-kU"
      }
    },
    {
      "cell_type": "code",
      "source": [
        "#Your answer must go here"
      ],
      "metadata": {
        "id": "du-AQi1jCema"
      },
      "execution_count": null,
      "outputs": []
    },
    {
      "cell_type": "markdown",
      "source": [
        "Take a list of strings (words) and create a new list containing the lengths of each word in the original list."
      ],
      "metadata": {
        "id": "2PHWbU8HtNO-"
      }
    },
    {
      "cell_type": "code",
      "source": [
        "#Your answer must go here\n",
        "\n",
        "# Function to get the lengths of each word in the list\n",
        "def get_word_lengths(words_list):\n",
        "    # Create a new list with the lengths of each word\n",
        "    lengths_list = [len(word) for word in words_list]\n",
        "    return lengths_list\n",
        "\n",
        "# Example list of words\n",
        "words = [\"apple\", \"banana\", \"cherry\", \"date\", \"elderberry\"]\n",
        "\n",
        "# Get the lengths of each word\n",
        "lengths = get_word_lengths(words)\n",
        "\n",
        "# Display the result\n",
        "print(\"Original list of words:\", words)\n",
        "print(\"List of word lengths:\", lengths)\n",
        "\n",
        "# Resources: https://www.geeksforgeeks.org/python-get-first-and-last-elements-of-a-list/"
      ],
      "metadata": {
        "id": "S_vHvvR6Cfav",
        "outputId": "4d13905f-2311-4c1e-cae8-d97cee79ec44",
        "colab": {
          "base_uri": "https://localhost:8080/"
        }
      },
      "execution_count": null,
      "outputs": [
        {
          "output_type": "stream",
          "name": "stdout",
          "text": [
            "Original list of words: ['apple', 'banana', 'cherry', 'date', 'elderberry']\n",
            "List of word lengths: [5, 6, 6, 4, 10]\n"
          ]
        }
      ]
    },
    {
      "cell_type": "markdown",
      "source": [
        "Create a dictionary student_grades with keys as student names and values as their respective grades. Find the student with the highest grade and print the output"
      ],
      "metadata": {
        "id": "8gzK9MNStgx5"
      }
    },
    {
      "cell_type": "code",
      "source": [
        "#Your answer must go here"
      ],
      "metadata": {
        "id": "dcUL0Yj3CgVQ"
      },
      "execution_count": null,
      "outputs": []
    },
    {
      "cell_type": "markdown",
      "source": [
        "Define two sets, set1 and set2, containing some common elements. Remove the duplicate elements from set1 that are also present in set2."
      ],
      "metadata": {
        "id": "E1B78qP8tupG"
      }
    },
    {
      "cell_type": "code",
      "source": [
        "#Your answer must go here"
      ],
      "metadata": {
        "id": "yyD4jH4AChIl"
      },
      "execution_count": null,
      "outputs": []
    },
    {
      "cell_type": "markdown",
      "source": [
        "Create a dictionary word_count to count the occurrences of each word in a given sentence. Print the top 3 most common words along with their counts."
      ],
      "metadata": {
        "id": "2qhPexHqt0fv"
      }
    },
    {
      "cell_type": "code",
      "source": [
        "#Your answer must go here"
      ],
      "metadata": {
        "id": "XmxnACB1CiUV"
      },
      "execution_count": null,
      "outputs": []
    }
  ]
}